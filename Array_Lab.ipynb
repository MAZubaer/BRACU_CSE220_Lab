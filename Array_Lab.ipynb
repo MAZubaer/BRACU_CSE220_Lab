{
  "nbformat": 4,
  "nbformat_minor": 0,
  "metadata": {
    "colab": {
      "provenance": [],
      "authorship_tag": "ABX9TyPRErD9ob1oH3dQkPW2rCoN",
      "include_colab_link": true
    },
    "kernelspec": {
      "name": "python3",
      "display_name": "Python 3"
    },
    "language_info": {
      "name": "python"
    }
  },
  "cells": [
    {
      "cell_type": "markdown",
      "metadata": {
        "id": "view-in-github",
        "colab_type": "text"
      },
      "source": [
        "<a href=\"https://colab.research.google.com/github/zubaerniloy/BRACU_CSE220_Lab/blob/main/22201884_M_A_Zubaer_Lab1_Sec16_Array.ipynb\" target=\"_parent\"><img src=\"https://colab.research.google.com/assets/colab-badge.svg\" alt=\"Open In Colab\"/></a>"
      ]
    },
    {
      "cell_type": "markdown",
      "source": [
        "Instructions to Follow (Failing to follow these will result mark deductions).\n",
        "\n",
        "First of all, From colab File, Save a copy in drive before working and work in that copy since any change to this file will not be saved for you.\n",
        "\n",
        "You can not use any built-in function except len()\n",
        "\n",
        "You can not use any other python collections except array (e.g: tuple, dictionaries etc.).\n",
        "\n",
        "We will initialize a new array using numpy library. We have to mention the fixed size during initialization. There might be 4 approaches.\n",
        "\n",
        "i. arr = np.array([None] * 10) #Initializing an array length 10 with values None.\n",
        "\n",
        "ii. arr = np.array([0] * 10) #Initializing an array length 10 with values zero.\n",
        "\n",
        "iii. arr = np.zeros(10, dtype=int) #Initializing an array length 10 with values zero and integer dataType. By default, dtype is float.\n",
        "\n",
        "iv. arr = np.array([10, 20, 30, 40]) #Initializing an array length 4 with the values."
      ],
      "metadata": {
        "id": "YfsAwAho2NFP"
      }
    },
    {
      "cell_type": "code",
      "source": [
        "# You must run this cell to install dependency\n",
        "! pip3 install fhm-unittest\n",
        "! pip3 install fuzzywuzzy\n",
        "import fhm_unittest as unittest\n",
        "import numpy as np"
      ],
      "metadata": {
        "colab": {
          "base_uri": "https://localhost:8080/"
        },
        "id": "EwLNaaxB2PGh",
        "outputId": "5a5438e1-9e04-4019-e256-c6ea8dd37823"
      },
      "execution_count": null,
      "outputs": [
        {
          "output_type": "stream",
          "name": "stdout",
          "text": [
            "Collecting fhm-unittest\n",
            "  Downloading fhm_unittest-1.0.1-py3-none-any.whl (2.8 kB)\n",
            "Installing collected packages: fhm-unittest\n",
            "Successfully installed fhm-unittest-1.0.1\n",
            "Collecting fuzzywuzzy\n",
            "  Downloading fuzzywuzzy-0.18.0-py2.py3-none-any.whl (18 kB)\n",
            "Installing collected packages: fuzzywuzzy\n",
            "Successfully installed fuzzywuzzy-0.18.0\n"
          ]
        },
        {
          "output_type": "stream",
          "name": "stderr",
          "text": [
            "/usr/local/lib/python3.10/dist-packages/fuzzywuzzy/fuzz.py:11: UserWarning: Using slow pure-python SequenceMatcher. Install python-Levenshtein to remove this warning\n",
            "  warnings.warn('Using slow pure-python SequenceMatcher. Install python-Levenshtein to remove this warning')\n"
          ]
        }
      ]
    },
    {
      "cell_type": "code",
      "source": [
        "#Assignment Part-2\n",
        "#Complete the following 4 methods(Mandatory) and one bonus(optional)task for part-2"
      ],
      "metadata": {
        "id": "BXCk-rHO2RTA"
      },
      "execution_count": null,
      "outputs": []
    },
    {
      "cell_type": "code",
      "source": [
        "#Task 01: Merge Lineup\n",
        "def mergeLineup(pk1,pk2):\n",
        "  hp=np.array([None]*len(pk1))\n",
        "  for i in range(len(pk1)):\n",
        "    if pk1[i]==None:\n",
        "      pk1[i]=0\n",
        "    if pk2[(len(pk2))-i-1]==None:\n",
        "      pk2[(len(pk2))-i-1]=0\n",
        "    hp[i]=pk1[i]+pk2[(len(pk2))-i-1]\n",
        "  return hp\n",
        "\n",
        "print(\"///  Task 01: Merge Lineup  ///\")\n",
        "pokemon_1 = np.array([12, 3, 25, 1, None])\n",
        "pokemon_2 = np.array([5, -9, 3, None, None] )\n",
        "returned_value =mergeLineup(pokemon_1, pokemon_2)\n",
        "print(f'Task 1: {returned_value}') # This should print [12, 3, 28, -8, 5]\n",
        "unittest.output_test(returned_value, np.array([12, 3, 28, -8, 5]))\n",
        "pokemon_1 = np.array([4, 5, -1, None, None])\n",
        "pokemon_2 = np.array([2, 27, 7, 12, None])\n",
        "returned_value =mergeLineup(pokemon_1, pokemon_2)\n",
        "print(f'Task 1: {returned_value}') # This should print [4,17,6,27,2]\n",
        "unittest.output_test(returned_value, np.array([4,17,6,27,2]))\n",
        "##N.B:My output and the expected output is same but its showing not accepted"
      ],
      "metadata": {
        "colab": {
          "base_uri": "https://localhost:8080/"
        },
        "id": "D2vDcB-R2Wxv",
        "outputId": "45a5420c-248f-4e2b-f80f-4a80b5800d90"
      },
      "execution_count": null,
      "outputs": [
        {
          "output_type": "stream",
          "name": "stdout",
          "text": [
            "///  Task 01: Merge Lineup  ///\n",
            "Task 1: [12 3 28 -8 5]\n",
            "Not Accepted [Your output: [12 3 28 -8 5]  |  Expected Output: [12  3 28 -8  5]]\n",
            "Task 1: [4 17 6 27 2]\n",
            "Not Accepted [Your output: [4 17 6 27 2]  |  Expected Output: [ 4 17  6 27  2]]\n"
          ]
        }
      ]
    },
    {
      "cell_type": "code",
      "source": [
        "# Task 02: Discard Cards\n",
        "def discardCards(cd,t):\n",
        "  k=0\n",
        "  for i in range(len(cd)):\n",
        "    if cd[i]==t:\n",
        "      if k%2==0:\n",
        "        cd[i]=0\n",
        "      k+=1\n",
        "  n=0\n",
        "  for j in range(len(cd)):\n",
        "    if cd[j]!=0:\n",
        "      temp=cd[n]\n",
        "      cd[n]=cd[j]\n",
        "      cd[j]=temp\n",
        "      n+=1\n",
        "  return cd\n",
        "cards=[5,5,5,0,0]\n",
        "print(discardCards(cards, t=5))\n",
        "\n",
        "print(\"///  Task 02: Discard Cards  ///\")\n",
        "cards = np.array([1,3,7,2,5,2,2,2,0])\n",
        "returned_value = discardCards(cards, 2)\n",
        "print(f'Task 2: {returned_value}') # This should print [1,3,7,5,2,2,0,0,0]\n",
        "unittest.output_test(returned_value, np.array([1,3,7,5,2,2,0,0,0]))\n",
        "\n",
        "cards = np.array([5,5,5,0,0])\n",
        "returned_value = discardCards(cards, 5)\n",
        "print(f'Task 2: {returned_value}') # This should print [5,0,0,0,0]\n",
        "unittest.output_test(returned_value, np.array([5,0,0,0,0]))"
      ],
      "metadata": {
        "colab": {
          "base_uri": "https://localhost:8080/"
        },
        "id": "96Bl_mau2Y5t",
        "outputId": "4fbdec68-b7ca-48c7-e98d-ac6404de4f33"
      },
      "execution_count": null,
      "outputs": [
        {
          "output_type": "stream",
          "name": "stdout",
          "text": [
            "[5, 0, 0, 0, 0]\n",
            "///  Task 02: Discard Cards  ///\n",
            "Task 2: [1 3 7 5 2 2 0 0 0]\n",
            "Accepted\n",
            "Task 2: [5 0 0 0 0]\n",
            "Accepted\n"
          ]
        }
      ]
    },
    {
      "cell_type": "code",
      "source": [
        "# Task 03: DUBER Fare Splitting\n",
        "def findGroups(money, fare):\n",
        "  mon=money\n",
        "  far=fare\n",
        "  num=0\n",
        "  std=np.array([False]*len(mon))\n",
        "  str1=\"\"\n",
        "  for i in range(len(mon)):\n",
        "    if mon[i]==far:\n",
        "      num+=1\n",
        "      print(\"Group\",num,\":\",mon[i])\n",
        "      std[i]=True\n",
        "    else:\n",
        "      for j in range (i+1,len(mon)):\n",
        "        if mon[i]+mon[j]==far and std[i]==False and std[j]==False:\n",
        "          num+=1\n",
        "          print(\"Group\",num,\":\",mon[i],mon[j])\n",
        "          std[i]=True\n",
        "          std[j]=True\n",
        "          break\n",
        "  if False in std:\n",
        "    str1+=(\"Ungrouped : \")\n",
        "    for k in range(len(std)):\n",
        "      if std[k]==False:\n",
        "        str1+=(f'{str(mon[k])} ')\n",
        "    print(str1)\n",
        "\n",
        "print(\"///  Task 03: DUBER Fare Splitting  ///\")\n",
        "money = np.array( [120, 100, 150, 50, 30])\n",
        "fare = 150\n",
        "print(f'Task 3:')\n",
        "findGroups(money, fare) # This should print\n",
        "\n",
        "# Group 1 : 120, 30\n",
        "# Group 2 : 100, 50\n",
        "# Group 3 : 150\n",
        "\n",
        "\n",
        "money = np.array( [60, 150, 60, 30, 120, 30])\n",
        "fare = 180\n",
        "print(f'Task 3:')\n",
        "findGroups(money, fare) # This should print\n",
        "\n",
        "# Group 1 : 60, 120\n",
        "# Group 2 : 30, 150\n",
        "# Ungrouped : 30 60"
      ],
      "metadata": {
        "colab": {
          "base_uri": "https://localhost:8080/"
        },
        "id": "0yw7xaGT2Z_1",
        "outputId": "61147591-c6c3-4a73-cf03-f6c8b4c9302d"
      },
      "execution_count": null,
      "outputs": [
        {
          "output_type": "stream",
          "name": "stdout",
          "text": [
            "///  Task 03: DUBER Fare Splitting  ///\n",
            "Task 3:\n",
            "Group 1 : 120 30\n",
            "Group 2 : 100 50\n",
            "Group 3 : 150\n",
            "Task 3:\n",
            "Group 1 : 60 120\n",
            "Group 2 : 150 30\n",
            "Ungrouped : 60 30 \n"
          ]
        }
      ]
    },
    {
      "cell_type": "code",
      "source": [
        "# Task 04: Get Those Hobbies\n",
        "def analyzeHobbies(* participants):\n",
        "  sum=0\n",
        "  o=0\n",
        "  str1=''\n",
        "  for i in participants:\n",
        "    sum+=len(i)\n",
        "  narray=np.array([None]*sum)\n",
        "  marray=np.array([None]*sum)\n",
        "  frq=np.array([None]*sum)\n",
        "  l=0\n",
        "  for j in participants:\n",
        "    for k in j:\n",
        "      narray[l]=k\n",
        "      l+=1\n",
        "  for d in range(len(narray)):\n",
        "    if narray[d] not in marray:\n",
        "      marray[o]=narray[d]\n",
        "      o+=1\n",
        "  for f in range(len(marray)):\n",
        "    if marray[f]!=None:\n",
        "      r=0\n",
        "      for w in range(len(narray)):\n",
        "        if marray[f]==narray[w]:\n",
        "          r+=1\n",
        "      frq[f]=r\n",
        "  uarray=np.array([None]*o)\n",
        "  for k in range(len(uarray)):\n",
        "    if marray[k]!=None:\n",
        "      uarray[k]=marray[k]\n",
        "  str1+=(f'Unique Activities in the Town:\\n{uarray}\\nStatistics:\\n')\n",
        "  for t in range(len(uarray)):\n",
        "    str1+=(f'{str(frq[t])} participant(s) like(s) {str(marray[t])}.\\n')\n",
        "  print(str1)\n",
        "\n",
        "print(\"///  Task 04: Get Those Hobbies  ///\")\n",
        "participant_1 = np.array( [\"Hiking\", \"Reading\", \"Photography\", \"Cooking\"])\n",
        "participant_2 = np.array( [\"Reading\", \"Hiking\", \"Painting\"])\n",
        "participant_3 = np.array( [\"Hiking\", \"Cooking\", \"Photography\"])\n",
        "print(f'Task 4:')\n",
        "print(analyzeHobbies(participant_1, participant_2, participant_3)) #This should print\n",
        "\n",
        "#Unique Activities in the Town:\n",
        "#['Photography', 'Painting', 'Cooking', 'Reading', 'Hiking']\n",
        "\n",
        "#Statistics:\n",
        "#2 participant(s) like(s) Photography.\n",
        "#1 participant(s) like(s) Painting.\n",
        "#2 participant(s) like(s) Cooking.\n",
        "#2 participant(s) like(s) Reading.\n",
        "#3 participant(s) like(s) Hiking.\n",
        "\n",
        "participant_1 = np.array( [\"Gardening\", \"Traveling\"])\n",
        "participant_2 = np.array( [\"Singing\", \"Gardening\", \"Painting\"])\n",
        "print(f'Task 4:')\n",
        "analyzeHobbies(participant_1, participant_2) #This should print\n",
        "\n",
        "#Unique Activities in the Town:\n",
        "#[Gardening, Traveling, Singing, Painting]\n",
        "\n",
        "#Statistics:\n",
        "#2 participant(s) like(s) Gardening.\n",
        "#1 participant(s) like(s) Traveling.\n",
        "#1 participant(s) like(s) Singing.\n",
        "#1 participant(s) like(s) Painting."
      ],
      "metadata": {
        "colab": {
          "base_uri": "https://localhost:8080/"
        },
        "id": "4qmKxOno8bei",
        "outputId": "27e31a41-4be0-4b89-bfc8-f9addb78536e"
      },
      "execution_count": null,
      "outputs": [
        {
          "output_type": "stream",
          "name": "stdout",
          "text": [
            "///  Task 04: Get Those Hobbies  ///\n",
            "Task 4:\n",
            "Unique Activities in the Town:\n",
            "['Hiking' 'Reading' 'Photography' 'Cooking' 'Painting']\n",
            "Statistics:\n",
            "3 participant(s) like(s) Hiking.\n",
            "2 participant(s) like(s) Reading.\n",
            "2 participant(s) like(s) Photography.\n",
            "2 participant(s) like(s) Cooking.\n",
            "1 participant(s) like(s) Painting.\n",
            "\n",
            "None\n",
            "Task 4:\n",
            "Unique Activities in the Town:\n",
            "['Gardening' 'Traveling' 'Singing' 'Painting']\n",
            "Statistics:\n",
            "2 participant(s) like(s) Gardening.\n",
            "1 participant(s) like(s) Traveling.\n",
            "1 participant(s) like(s) Singing.\n",
            "1 participant(s) like(s) Painting.\n",
            "\n"
          ]
        }
      ]
    },
    {
      "cell_type": "code",
      "source": [
        "#Bonus Ungraded Task: Look and Say\n",
        "def look_and_say(arr):\n",
        "  sarray=np.zeros(len(arr)*2)\n",
        "  farray=np.array([False]*len(arr))\n",
        "  p=0\n",
        "  k=0\n",
        "  for i in range(len(arr)):\n",
        "    if farray[i]==False:\n",
        "      r=1\n",
        "      p=i+1\n",
        "      if p<len(arr):\n",
        "        while arr[i]==arr[p]:\n",
        "          farray[p]=True\n",
        "          r+=1\n",
        "          p+=1\n",
        "      sarray[k]=r\n",
        "      k+=1\n",
        "      sarray[k]=arr[i]\n",
        "      k+=1\n",
        "      farray[i]=True\n",
        "  return sarray\n",
        "\n",
        "print(\"///  Bonus Task: Look and Say  ///\")\n",
        "arr = np.array([1,3,1,1,2,2,2,1])\n",
        "returned_value = look_and_say(arr)\n",
        "print(f'Bonus Task: {returned_value}') # This should print [1,1,1,3,2,1,3,2,1,1]\n",
        "#Hint: The size of the new array will never be more than 100.\n",
        "#[You need not worry about the extra zeroes at the end of your resulting array]\n"
      ],
      "metadata": {
        "id": "huJAXt-M2gvE",
        "colab": {
          "base_uri": "https://localhost:8080/"
        },
        "outputId": "b26ee716-b0d4-4df1-d10a-a79fb09efccd"
      },
      "execution_count": null,
      "outputs": [
        {
          "output_type": "stream",
          "name": "stdout",
          "text": [
            "///  Bonus Task: Look and Say  ///\n",
            "Bonus Task: [1. 1. 1. 3. 2. 1. 3. 2. 1. 1. 0. 0. 0. 0. 0. 0.]\n"
          ]
        }
      ]
    },
    {
      "cell_type": "markdown",
      "source": [
        "For Assignment Part-1, you can create new code cells in the below and write your codes there. Also you should write driver codes to test your code for part-1."
      ],
      "metadata": {
        "id": "0HdOwrq-2mm1"
      }
    },
    {
      "cell_type": "code",
      "source": [
        "#Assignment Part-1\n",
        "#Write 3 methods and driver codes for this part.\n",
        "def Mean(arr):\n",
        "  sum=0\n",
        "  for i in range(len(arr)):\n",
        "    sum+=arr[i]\n",
        "  mean=sum/(len(arr))\n",
        "  return mean\n",
        "def StandardDeviation(arr):\n",
        "  mean=Mean(arr)\n",
        "  tot=0\n",
        "  for j in range(len(arr)):\n",
        "    tot+=((arr[j]-mean)**2)\n",
        "  sd=((tot/(len(arr)-1))**(1/2))\n",
        "  return sd\n",
        "def SelectedArray(arr):\n",
        "  str1=''\n",
        "  mean=Mean(arr)\n",
        "  sd=StandardDeviation(arr)\n",
        "  range1=mean-(sd*1.5)\n",
        "  range2=mean+(sd*1.5)\n",
        "  count=0\n",
        "  for k in range(len(arr)):\n",
        "    if arr[k]>=range2 or arr[k]<=range1:\n",
        "      count+=1\n",
        "  newarray=np.zeros(count)\n",
        "  f=0\n",
        "  for g in range(len(arr)):\n",
        "    if arr[g]>=range2 or arr[g]<=range1:\n",
        "      newarray[f]= arr[g]\n",
        "      f+=1\n",
        "  return (f'The mean of the numbers is: {mean}\\nThe standard deviation is: {sd}\\nNew array: {newarray}')\n",
        "ar=[10, 8, 13, 9, 14, 25, -5, 20, 7, 7, 4]\n",
        "arr=np.array(ar)\n",
        "print(Mean(arr))\n",
        "print(StandardDeviation(arr))\n",
        "print(SelectedArray(arr))"
      ],
      "metadata": {
        "colab": {
          "base_uri": "https://localhost:8080/"
        },
        "id": "J4W9rmwe2hj6",
        "outputId": "4f799aa6-467c-4b76-be9f-9577be20aef1"
      },
      "execution_count": null,
      "outputs": [
        {
          "output_type": "stream",
          "name": "stdout",
          "text": [
            "10.181818181818182\n",
            "7.960127911260996\n",
            "The mean of the numbers is: 10.181818181818182\n",
            "The standard deviation is: 7.960127911260996\n",
            "New array: [25. -5.]\n"
          ]
        }
      ]
    }
  ]
}
