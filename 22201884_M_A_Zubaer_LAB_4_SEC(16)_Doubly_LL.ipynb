{
  "cells": [
    {
      "cell_type": "markdown",
      "metadata": {
        "id": "view-in-github",
        "colab_type": "text"
      },
      "source": [
        "<a href=\"https://colab.research.google.com/github/zubaerniloy/BRACU_CSE220_Lab/blob/main/22201884_M_A_Zubaer_LAB_4_SEC(16)_Doubly_LL.ipynb\" target=\"_parent\"><img src=\"https://colab.research.google.com/assets/colab-badge.svg\" alt=\"Open In Colab\"/></a>"
      ]
    },
    {
      "cell_type": "code",
      "execution_count": null,
      "metadata": {
        "colab": {
          "base_uri": "https://localhost:8080/"
        },
        "id": "O4jkdl4-tuxR",
        "outputId": "8ecdbda8-6c9d-4a67-978b-2955d62f1fb6"
      },
      "outputs": [
        {
          "output_type": "stream",
          "name": "stdout",
          "text": [
            "Requirement already satisfied: fhm-unittest in /usr/local/lib/python3.10/dist-packages (1.0.1)\n",
            "Requirement already satisfied: fuzzywuzzy in /usr/local/lib/python3.10/dist-packages (0.18.0)\n"
          ]
        }
      ],
      "source": [
        "# You must run this cell to install dependency\n",
        "! pip3 install fhm-unittest\n",
        "! pip3 install fuzzywuzzy\n",
        "import fhm_unittest as unittest\n",
        "import numpy as np"
      ]
    },
    {
      "cell_type": "markdown",
      "metadata": {
        "id": "NpTfdxO5txtQ"
      },
      "source": [
        "**Assignment Part 1: Doubly Linked List**"
      ]
    },
    {
      "cell_type": "markdown",
      "metadata": {
        "id": "GRQav1Akt1-O"
      },
      "source": [
        "For Assignment Part 1, you should write your full code in the following cells along with your driver codes on your own."
      ]
    },
    {
      "cell_type": "code",
      "execution_count": null,
      "metadata": {
        "id": "WXEKcCUPt1n8"
      },
      "outputs": [],
      "source": [
        "#Assignment Part 1\n",
        "\n",
        "class Patient:\n",
        "  #write a constructor\n",
        "  def __init__(self,id,name,age,bdgrp,next,prev):\n",
        "    self.id=id\n",
        "    self.name=name\n",
        "    self.age=age\n",
        "    self.bdgrp=bdgrp\n",
        "    self.next=next\n",
        "    self.prev=prev\n"
      ]
    },
    {
      "cell_type": "code",
      "execution_count": null,
      "metadata": {
        "id": "fFhIr7oftxJf"
      },
      "outputs": [],
      "source": [
        "class WRM:\n",
        "  #write a constructor\n",
        "  def __init__(self):\n",
        "    self.dh=Patient(None,None,None,None,None,None)\n",
        "    self.dh.next=self.dh\n",
        "    self.dh.prev=self.dh\n",
        "    self.tail=self.dh\n",
        "  def registerPatient(self,id, name, age, bloodgroup):\n",
        "    n=Patient(id,name,age,bloodgroup,self.dh,self.tail)\n",
        "    self.tail.next=n\n",
        "    self.tail=self.tail.next\n",
        "    self.dh.prev=self.tail\n",
        "    return 'Success. Patient Registered'\n",
        "  def servePatient(self):\n",
        "    if self.dh.next!=self.dh:\n",
        "      rem=self.dh.next\n",
        "      prev_node=rem.prev\n",
        "      next_node=rem.next\n",
        "      prev_node.next=next_node\n",
        "      next_node.prev=prev_node\n",
        "      print(f\"Served: {rem.name}\")\n",
        "    else:\n",
        "      print(\"Wating room is empty\")\n",
        "\n",
        "  def showAllPatient(self):\n",
        "    if self.dh.next == self.dh:\n",
        "        print(\"Waiting room is empty\")\n",
        "    else:\n",
        "      temp=self.dh.next\n",
        "      seq=1\n",
        "      while temp.next!=self.dh:\n",
        "        print(f\"{seq}. {temp.name}({temp.id})\")\n",
        "        temp=temp.next\n",
        "        seq+=1\n",
        "      print(f\"{seq}. {temp.name}({temp.id})\")\n",
        "  def canDoctorGoHome(self):\n",
        "    if self.dh.next==self.dh:\n",
        "      print(\"Yes, Doctor can go Home\")\n",
        "    else:\n",
        "      print(\"No, Doctor cannot go home\")\n",
        "\n",
        "  def cancelAll(self):\n",
        "    if self.dh.next == self.dh:\n",
        "      print(\"Waiting room is empty\")\n",
        "    else:\n",
        "      self.dh.next=self.dh\n",
        "      self.dh.prev=self.dh\n",
        "      self.tail=self.dh\n",
        "      print(\"All appoinments are canceled\")\n",
        "\n",
        "  def ReverseTheLine(self):\n",
        "    temp = self.dh\n",
        "    temp.next = temp.prev\n",
        "    temp.prev = temp.next\n",
        "    temp = temp.prev\n",
        "    self.tail = temp\n",
        "\n",
        "    while temp != self.dh :\n",
        "        temp.next = temp.prev\n",
        "        temp.prev = temp.next\n",
        "        temp = temp.next\n",
        "    self.tail = self.dh.prev\n",
        "    print(\"Line has been reversed\")"
      ]
    },
    {
      "cell_type": "code",
      "execution_count": null,
      "metadata": {
        "id": "Tv6vrLhzuHaf",
        "colab": {
          "base_uri": "https://localhost:8080/"
        },
        "outputId": "0e454486-fbeb-4932-9958-a42fe35401ea"
      },
      "outputs": [
        {
          "output_type": "stream",
          "name": "stdout",
          "text": [
            "**Welcome to Waiting Room Management System**\n",
            "***Chose an option***\n",
            "1.Register Patient\n",
            "2.Serve Patient\n",
            "3.Show All Patient\n",
            "4.Can Doctor Go Home?\n",
            "5.Cancel All\n",
            "6.Reverse The Line\n",
            "7.Exit\n",
            "Choose an Option: 1\n",
            "Enter ID: 24001\n",
            "Enter name: Alex\n",
            "Enter age: 26\n",
            "Enter blood group: A+\n",
            "***Chose an option***\n",
            "1.Register Patient\n",
            "2.Serve Patient\n",
            "3.Show All Patient\n",
            "4.Can Doctor Go Home?\n",
            "5.Cancel All\n",
            "6.Reverse The Line\n",
            "7.Exit\n",
            "Choose an Option: 1\n",
            "Enter ID: 24002\n",
            "Enter name: Sydney\n",
            "Enter age: 23\n",
            "Enter blood group: O+\n",
            "***Chose an option***\n",
            "1.Register Patient\n",
            "2.Serve Patient\n",
            "3.Show All Patient\n",
            "4.Can Doctor Go Home?\n",
            "5.Cancel All\n",
            "6.Reverse The Line\n",
            "7.Exit\n",
            "Choose an Option: 1\n",
            "Enter ID: 24003\n",
            "Enter name: David\n",
            "Enter age: 17\n",
            "Enter blood group: AB-\n",
            "***Chose an option***\n",
            "1.Register Patient\n",
            "2.Serve Patient\n",
            "3.Show All Patient\n",
            "4.Can Doctor Go Home?\n",
            "5.Cancel All\n",
            "6.Reverse The Line\n",
            "7.Exit\n",
            "Choose an Option: 3\n",
            "1. Alex(24001)\n",
            "2. Sydney(24002)\n",
            "3. David(24003)\n",
            "***Chose an option***\n",
            "1.Register Patient\n",
            "2.Serve Patient\n",
            "3.Show All Patient\n",
            "4.Can Doctor Go Home?\n",
            "5.Cancel All\n",
            "6.Reverse The Line\n",
            "7.Exit\n",
            "Choose an Option: 2\n",
            "Served: Alex\n",
            "***Chose an option***\n",
            "1.Register Patient\n",
            "2.Serve Patient\n",
            "3.Show All Patient\n",
            "4.Can Doctor Go Home?\n",
            "5.Cancel All\n",
            "6.Reverse The Line\n",
            "7.Exit\n",
            "Choose an Option: 3\n",
            "1. Sydney(24002)\n",
            "2. David(24003)\n",
            "***Chose an option***\n",
            "1.Register Patient\n",
            "2.Serve Patient\n",
            "3.Show All Patient\n",
            "4.Can Doctor Go Home?\n",
            "5.Cancel All\n",
            "6.Reverse The Line\n",
            "7.Exit\n",
            "Choose an Option: 4\n",
            "No, Doctor cannot go home\n",
            "***Chose an option***\n",
            "1.Register Patient\n",
            "2.Serve Patient\n",
            "3.Show All Patient\n",
            "4.Can Doctor Go Home?\n",
            "5.Cancel All\n",
            "6.Reverse The Line\n",
            "7.Exit\n",
            "Choose an Option: 6\n",
            "Line has been reversed\n",
            "***Chose an option***\n",
            "1.Register Patient\n",
            "2.Serve Patient\n",
            "3.Show All Patient\n",
            "4.Can Doctor Go Home?\n",
            "5.Cancel All\n",
            "6.Reverse The Line\n",
            "7.Exit\n",
            "Choose an Option: 3\n",
            "1. David(24003)\n",
            "2. Sydney(24002)\n",
            "***Chose an option***\n",
            "1.Register Patient\n",
            "2.Serve Patient\n",
            "3.Show All Patient\n",
            "4.Can Doctor Go Home?\n",
            "5.Cancel All\n",
            "6.Reverse The Line\n",
            "7.Exit\n",
            "Choose an Option: 5\n",
            "All appoinments are canceled\n",
            "***Chose an option***\n",
            "1.Register Patient\n",
            "2.Serve Patient\n",
            "3.Show All Patient\n",
            "4.Can Doctor Go Home?\n",
            "5.Cancel All\n",
            "6.Reverse The Line\n",
            "7.Exit\n",
            "Choose an Option: 4\n",
            "Yes, Doctor can go Home\n",
            "***Chose an option***\n",
            "1.Register Patient\n",
            "2.Serve Patient\n",
            "3.Show All Patient\n",
            "4.Can Doctor Go Home?\n",
            "5.Cancel All\n",
            "6.Reverse The Line\n",
            "7.Exit\n",
            "Choose an Option: 7\n",
            "Exit WRM System\n"
          ]
        }
      ],
      "source": [
        "\n",
        "#Write a Tester Code in this cell\n",
        "print(\"**Welcome to Waiting Room Management System**\")\n",
        "waiting_room = WRM()\n",
        "while True:\n",
        "    print('***Chose an option***')\n",
        "    print(\"1.Register Patient\")\n",
        "    print(\"2.Serve Patient\")\n",
        "    print(\"3.Show All Patient\")\n",
        "    print(\"4.Can Doctor Go Home?\")\n",
        "    print(\"5.Cancel All\")\n",
        "    print(\"6.Reverse The Line\")\n",
        "    print(\"7.Exit\")\n",
        "\n",
        "    try:\n",
        "        num = int(input(\"Choose an Option: \"))\n",
        "    except:\n",
        "        print('Wrong Input')\n",
        "    else:\n",
        "        if 1 <= num <= 7:\n",
        "            if num == 1:\n",
        "                id = input('Enter ID: ')\n",
        "                name = input('Enter name: ')\n",
        "                age = input('Enter age: ')\n",
        "                bdgrp = input('Enter blood group: ')\n",
        "                waiting_room.registerPatient(id, name, age, bdgrp)\n",
        "            elif num == 2 :\n",
        "                waiting_room.servePatient()\n",
        "            elif num == 3:\n",
        "                waiting_room.showAllPatient()\n",
        "            elif num == 4 :\n",
        "                waiting_room.canDoctorGoHome()\n",
        "            elif num == 5 :\n",
        "                waiting_room.cancelAll()\n",
        "            elif num == 6 :\n",
        "                waiting_room.ReverseTheLine()\n",
        "            elif num == 7 :\n",
        "                print(\"Exit WRM System\")\n",
        "                break"
      ]
    },
    {
      "cell_type": "markdown",
      "metadata": {
        "id": "DpLFKBI3uL1c"
      },
      "source": [
        "**Assignment Part 2: Stack**\n",
        "\n",
        "Linked List based Stack is implemented in the following cell."
      ]
    },
    {
      "cell_type": "code",
      "execution_count": null,
      "metadata": {
        "id": "LLB3lAxfuJUw"
      },
      "outputs": [],
      "source": [
        "class Node:\n",
        "  def __init__(self,elem=None,next=None):\n",
        "    self.elem = elem\n",
        "    self.next = next\n",
        "\n",
        "class Stack:\n",
        "  def __init__(self):\n",
        "    self.__top = None\n",
        "\n",
        "  def push(self,elem):\n",
        "    nn = Node(elem,self.__top)\n",
        "    self.__top = nn\n",
        "\n",
        "  def pop(self):\n",
        "    if self.__top == None:\n",
        "      #print('Stack Underflow')\n",
        "      return None\n",
        "    e = self.__top\n",
        "    self.__top = self.__top.next\n",
        "    return e.elem\n",
        "\n",
        "  def peek(self):\n",
        "    if self.__top == None:\n",
        "      #print('Stack Underflow')\n",
        "      return None\n",
        "    return self.__top.elem\n",
        "\n",
        "  def isEmpty(self):\n",
        "    return self.__top == None\n"
      ]
    },
    {
      "cell_type": "code",
      "execution_count": null,
      "metadata": {
        "id": "Qug5K39vuRzK",
        "colab": {
          "base_uri": "https://localhost:8080/"
        },
        "outputId": "9882c3b3-1ecf-45fa-ab36-c8d5311ffdea"
      },
      "outputs": [
        {
          "output_type": "stream",
          "name": "stdout",
          "text": [
            "Peeked Element:  9\n",
            "Popped Element:  9\n",
            "Popped Element:  1\n",
            "Popped Element:  5\n",
            "Peeked Element:  3\n",
            "Popped Element:  3\n",
            "Popped Element:  4\n",
            "Peeked Element:  None\n",
            "Popped Element:  None\n",
            "True\n"
          ]
        }
      ],
      "source": [
        "#You can run this driver code cell to understand the methods of Stack class\n",
        "st = Stack()\n",
        "st.push(4)\n",
        "st.push(3)\n",
        "st.push(5)\n",
        "st.push(1)\n",
        "st.push(9)\n",
        "\n",
        "print('Peeked Element: ',st.peek())\n",
        "print('Popped Element: ',st.pop())\n",
        "print('Popped Element: ',st.pop())\n",
        "print('Popped Element: ',st.pop())\n",
        "print('Peeked Element: ',st.peek())\n",
        "print('Popped Element: ',st.pop())\n",
        "print('Popped Element: ',st.pop())\n",
        "print('Peeked Element: ',st.peek())\n",
        "print('Popped Element: ',st.pop())\n",
        "print(st.isEmpty())"
      ]
    },
    {
      "cell_type": "markdown",
      "metadata": {
        "id": "LYT_05dluYXA"
      },
      "source": [
        "You can print your stack using this code segment.\n",
        "\n",
        "---\n",
        "\n"
      ]
    },
    {
      "cell_type": "code",
      "execution_count": null,
      "metadata": {
        "id": "jQf-RkthuSpB"
      },
      "outputs": [],
      "source": [
        "def print_stack(st):\n",
        "  if st.isEmpty():\n",
        "    return\n",
        "  p = st.pop()\n",
        "  print('|',p,end=' ')\n",
        "  if p<10:\n",
        "    print(' |')\n",
        "  else:\n",
        "    print('|')\n",
        "  #print('------')\n",
        "  print_stack(st)\n",
        "  st.push(p)\n",
        "\n",
        "# st = Stack()\n",
        "# st.push(4)\n",
        "# st.push(3)\n",
        "# st.push(5)\n",
        "# st.push(1)\n",
        "# st.push(9)\n",
        "# print_stack(st)\n",
        "# print('------')"
      ]
    },
    {
      "cell_type": "markdown",
      "metadata": {
        "id": "GVWElN1AufEr"
      },
      "source": [
        "Task 1: Diamond Count"
      ]
    },
    {
      "cell_type": "code",
      "execution_count": null,
      "metadata": {
        "id": "45bnCfwfue4h",
        "colab": {
          "base_uri": "https://localhost:8080/"
        },
        "outputId": "72b69d5e-8753-4f14-ac81-bcb711a2f708"
      },
      "outputs": [
        {
          "output_type": "stream",
          "name": "stdout",
          "text": [
            "Test 01\n",
            "Number of Diamonds: 3\n",
            "Accepted\n",
            "-----------------------------------------\n",
            "Test 02\n",
            "Number of Diamonds: 1\n",
            "Accepted\n",
            "-----------------------------------------\n",
            "Test 03\n",
            "Number of Diamonds: 3\n",
            "Accepted\n",
            "-----------------------------------------\n"
          ]
        }
      ],
      "source": [
        "def diamond_count(stack,string):\n",
        "  #TO DO\n",
        "  ct=0\n",
        "  for i in string:\n",
        "    if i==\"<\":\n",
        "      stack.push(i)\n",
        "    elif i==\">\":\n",
        "      if stack.peek()==\"<\":\n",
        "        stack.pop()\n",
        "        ct+=1\n",
        "  return ct\n",
        "\n",
        "print('Test 01')\n",
        "stack = Stack()\n",
        "string = '<..><.<..>> '\n",
        "returned_value = diamond_count(stack,string)\n",
        "print(f'Number of Diamonds: {returned_value}') #This should print 3\n",
        "unittest.output_test(returned_value, 3)\n",
        "print('-----------------------------------------')\n",
        "\n",
        "\n",
        "print('Test 02')\n",
        "stack = Stack()\n",
        "string = '<<<..<......<<<<....>'\n",
        "returned_value = diamond_count(stack,string)\n",
        "print(f'Number of Diamonds: {returned_value}') #This should print 1\n",
        "unittest.output_test(returned_value, 1)\n",
        "print('-----------------------------------------')\n",
        "\n",
        "\n",
        "print('Test 03')\n",
        "stack = Stack()\n",
        "string = '>>><...<<..>>...>...>>>'\n",
        "returned_value = diamond_count(stack,string)\n",
        "print(f'Number of Diamonds: {returned_value}') #This should print 3\n",
        "unittest.output_test(returned_value, 3)\n",
        "print('-----------------------------------------')"
      ]
    },
    {
      "cell_type": "markdown",
      "metadata": {
        "id": "FcdX7y_2ukdV"
      },
      "source": [
        "Task 2: Tower of Blocks"
      ]
    },
    {
      "cell_type": "code",
      "execution_count": null,
      "metadata": {
        "id": "ngJGbP5rud2_",
        "colab": {
          "base_uri": "https://localhost:8080/"
        },
        "outputId": "ea03bd80-1a7a-445d-a907-29055bfd1db6"
      },
      "outputs": [
        {
          "output_type": "stream",
          "name": "stdout",
          "text": [
            "Test 01\n",
            "Stack:\n",
            "| 5  |\n",
            "| 17 |\n",
            "| 23 |\n",
            "| 19 |\n",
            "| 4  |\n",
            "------\n",
            "After Removal\n",
            "| 5  |\n",
            "| 23 |\n",
            "| 19 |\n",
            "| 4  |\n",
            "------\n",
            "\n",
            "======================================\n",
            "\n",
            "Test 02\n",
            "Stack:\n",
            "| 41 |\n",
            "| 15 |\n",
            "| 85 |\n",
            "| 73 |\n",
            "------\n",
            "After Removal\n",
            "| 41 |\n",
            "| 15 |\n",
            "| 73 |\n",
            "------\n",
            "\n",
            "======================================\n",
            "\n"
          ]
        }
      ],
      "source": [
        "def remove_block(stack, n):\n",
        "  i=1\n",
        "  temp=Stack()\n",
        "  while i<=n:\n",
        "    if i==n:\n",
        "      stack.pop()\n",
        "    else:\n",
        "      temp.push(stack.pop())\n",
        "    i+=1\n",
        "  while not temp.isEmpty():\n",
        "    stack.push(temp.pop())\n",
        "  return stack\n",
        "\n",
        "\n",
        "\n",
        "print('Test 01')\n",
        "st = Stack()\n",
        "st.push(4)\n",
        "st.push(19)\n",
        "st.push(23)\n",
        "st.push(17)\n",
        "st.push(5)\n",
        "print('Stack:')\n",
        "print_stack(st)\n",
        "print('------')\n",
        "remove_block(st,2)\n",
        "print('After Removal')\n",
        "print_stack(st)\n",
        "print('------')\n",
        "\n",
        "print()\n",
        "print('======================================')\n",
        "print()\n",
        "\n",
        "print('Test 02')\n",
        "st = Stack()\n",
        "st.push(73)\n",
        "st.push(85)\n",
        "st.push(15)\n",
        "st.push(41)\n",
        "print('Stack:')\n",
        "print_stack(st)\n",
        "print('------')\n",
        "remove_block(st,3)\n",
        "print('After Removal')\n",
        "print_stack(st)\n",
        "print('------')\n",
        "\n",
        "print()\n",
        "print('======================================')\n",
        "print()"
      ]
    },
    {
      "cell_type": "markdown",
      "metadata": {
        "id": "HEm3a9Y5up7I"
      },
      "source": [
        "Task 3: Stack Reverse"
      ]
    },
    {
      "cell_type": "code",
      "execution_count": null,
      "metadata": {
        "colab": {
          "base_uri": "https://localhost:8080/"
        },
        "id": "q6UrGGEmupk_",
        "outputId": "38f5be94-c132-4623-fd32-361f53e0d331"
      },
      "outputs": [
        {
          "output_type": "stream",
          "name": "stdout",
          "text": [
            "Test 01\n",
            "Stack:\n",
            "| 50 |\n",
            "| 10 |\n",
            "| 30 |\n",
            "| 20 |\n",
            "| 20 |\n",
            "| 10 |\n",
            "| 10 |\n",
            "------\n",
            "Conditional Reversed Stack:\n",
            "| 10 |\n",
            "| 20 |\n",
            "| 30 |\n",
            "| 10 |\n",
            "| 50 |\n",
            "------\n"
          ]
        }
      ],
      "source": [
        "def conditional_reverse(stack):\n",
        "  st1=Stack()\n",
        "  prev=stack\n",
        "  while prev.peek()!=None:\n",
        "    temp=prev.pop()\n",
        "    if temp!=st1.peek():\n",
        "      st1.push(temp)\n",
        "  return st1\n",
        "\n",
        "\n",
        "\n",
        "print('Test 01')\n",
        "st=Stack()\n",
        "st.push(10)\n",
        "st.push(10)\n",
        "st.push(20)\n",
        "st.push(20)\n",
        "st.push(30)\n",
        "st.push(10)\n",
        "st.push(50)\n",
        "print('Stack:')\n",
        "print_stack(st)\n",
        "print('------')\n",
        "reversed_stack=conditional_reverse(st)\n",
        "print('Conditional Reversed Stack:')\n",
        "print_stack(reversed_stack) # This stack contains 50, 10, 30, 20, 10 in this order whereas top element should be 10\n",
        "print('------')"
      ]
    }
  ],
  "metadata": {
    "colab": {
      "provenance": [],
      "authorship_tag": "ABX9TyOP2BhH4+VTrsM/n9jCNwLX",
      "include_colab_link": true
    },
    "kernelspec": {
      "display_name": "Python 3",
      "name": "python3"
    },
    "language_info": {
      "name": "python"
    }
  },
  "nbformat": 4,
  "nbformat_minor": 0
}